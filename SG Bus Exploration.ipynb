{
 "cells": [
  {
   "cell_type": "markdown",
   "metadata": {},
   "source": [
    "# Exploration of SG Bus Fares using Tableau\n",
    "\n",
    "Data from [data.gov.sg](https://data.gov.sg/) on the following 2 kinds of Bus Services:\n",
    "\n",
    "1. [Trunk Bus Services](https://data.gov.sg/dataset/fare-structure-for-trunk-bus-services)\n",
    "2. [Express Bus Services](https://data.gov.sg/dataset/fare-for-express-bus-services)\n",
    "\n",
    "The data was then briefly cleaned here, processed on Tableau (where the tables were pivoted, and the columns were split so that the \"Passenger Type\" and \"Payment Type\" were in different columns), and then brought back here for a final round of cleaning and touching up before being visualized in Tableau.\n",
    "\n",
    "To start with, we'll import the libraries needed."
   ]
  },
  {
   "cell_type": "code",
   "execution_count": 1,
   "metadata": {},
   "outputs": [],
   "source": [
    "import numpy as np\n",
    "import pandas as pd"
   ]
  },
  {
   "cell_type": "markdown",
   "metadata": {},
   "source": [
    "## Data Cleaning\n",
    "\n",
    "The two dataframes from Tableau were read in as `trunk` and `express`. The `km` unit from the column value was removed and placed in the column name."
   ]
  },
  {
   "cell_type": "code",
   "execution_count": 2,
   "metadata": {},
   "outputs": [],
   "source": [
    "trunk = pd.read_csv('fares-for-trunk-bus-service-effective-from-29-december-2018.csv')\n",
    "\n",
    "trunk['distance'] = trunk['distance'].str.replace(\"Up to\", \"\").str.replace(\"Over\", \"\").str.replace(\"km\", \"\")"
   ]
  },
  {
   "cell_type": "code",
   "execution_count": 3,
   "metadata": {},
   "outputs": [],
   "source": [
    "trunk.iloc[0,0] = \"3.2 or less\"\n",
    "trunk.iloc[38,0] = \"40.2 or more\""
   ]
  },
  {
   "cell_type": "code",
   "execution_count": 4,
   "metadata": {},
   "outputs": [
    {
     "data": {
      "text/html": [
       "<div>\n",
       "<style scoped>\n",
       "    .dataframe tbody tr th:only-of-type {\n",
       "        vertical-align: middle;\n",
       "    }\n",
       "\n",
       "    .dataframe tbody tr th {\n",
       "        vertical-align: top;\n",
       "    }\n",
       "\n",
       "    .dataframe thead th {\n",
       "        text-align: right;\n",
       "    }\n",
       "</style>\n",
       "<table border=\"1\" class=\"dataframe\">\n",
       "  <thead>\n",
       "    <tr style=\"text-align: right;\">\n",
       "      <th></th>\n",
       "      <th>distance (km)</th>\n",
       "      <th>adult_card_fare_per_ride</th>\n",
       "      <th>adult_cash_fare_per_ride</th>\n",
       "      <th>senior_citizen_card_fare_per_ride</th>\n",
       "      <th>senior_citizen_cash_fare_per_ride</th>\n",
       "      <th>student_card_fare_per_ride</th>\n",
       "      <th>student_cash_fare_per_ride</th>\n",
       "      <th>workfare_transport_concession_card_fare_per_ride</th>\n",
       "      <th>workfare_transport_concession_cash_fare_per_ride</th>\n",
       "      <th>persons_with_disabilities_card_fare_per_ride</th>\n",
       "      <th>persons_with_disabilities_cash_fare_per_ride</th>\n",
       "    </tr>\n",
       "  </thead>\n",
       "  <tbody>\n",
       "    <tr>\n",
       "      <th>0</th>\n",
       "      <td>3.2 or less</td>\n",
       "      <td>83</td>\n",
       "      <td>150</td>\n",
       "      <td>55</td>\n",
       "      <td>100</td>\n",
       "      <td>38</td>\n",
       "      <td>65</td>\n",
       "      <td>64</td>\n",
       "      <td>150</td>\n",
       "      <td>55</td>\n",
       "      <td>100</td>\n",
       "    </tr>\n",
       "    <tr>\n",
       "      <th>1</th>\n",
       "      <td>3.3  - 4.2</td>\n",
       "      <td>93</td>\n",
       "      <td>170</td>\n",
       "      <td>62</td>\n",
       "      <td>100</td>\n",
       "      <td>43</td>\n",
       "      <td>65</td>\n",
       "      <td>72</td>\n",
       "      <td>170</td>\n",
       "      <td>62</td>\n",
       "      <td>100</td>\n",
       "    </tr>\n",
       "    <tr>\n",
       "      <th>2</th>\n",
       "      <td>4.3  - 5.2</td>\n",
       "      <td>103</td>\n",
       "      <td>170</td>\n",
       "      <td>69</td>\n",
       "      <td>100</td>\n",
       "      <td>48</td>\n",
       "      <td>65</td>\n",
       "      <td>80</td>\n",
       "      <td>170</td>\n",
       "      <td>69</td>\n",
       "      <td>100</td>\n",
       "    </tr>\n",
       "    <tr>\n",
       "      <th>3</th>\n",
       "      <td>5.3  - 6.2</td>\n",
       "      <td>113</td>\n",
       "      <td>170</td>\n",
       "      <td>76</td>\n",
       "      <td>100</td>\n",
       "      <td>53</td>\n",
       "      <td>65</td>\n",
       "      <td>88</td>\n",
       "      <td>170</td>\n",
       "      <td>76</td>\n",
       "      <td>100</td>\n",
       "    </tr>\n",
       "    <tr>\n",
       "      <th>4</th>\n",
       "      <td>6.3  - 7.2</td>\n",
       "      <td>122</td>\n",
       "      <td>190</td>\n",
       "      <td>82</td>\n",
       "      <td>130</td>\n",
       "      <td>56</td>\n",
       "      <td>85</td>\n",
       "      <td>95</td>\n",
       "      <td>190</td>\n",
       "      <td>82</td>\n",
       "      <td>130</td>\n",
       "    </tr>\n",
       "  </tbody>\n",
       "</table>\n",
       "</div>"
      ],
      "text/plain": [
       "  distance (km)  adult_card_fare_per_ride  adult_cash_fare_per_ride  \\\n",
       "0   3.2 or less                        83                       150   \n",
       "1   3.3  - 4.2                         93                       170   \n",
       "2   4.3  - 5.2                        103                       170   \n",
       "3   5.3  - 6.2                        113                       170   \n",
       "4   6.3  - 7.2                        122                       190   \n",
       "\n",
       "   senior_citizen_card_fare_per_ride  senior_citizen_cash_fare_per_ride  \\\n",
       "0                                 55                                100   \n",
       "1                                 62                                100   \n",
       "2                                 69                                100   \n",
       "3                                 76                                100   \n",
       "4                                 82                                130   \n",
       "\n",
       "   student_card_fare_per_ride  student_cash_fare_per_ride  \\\n",
       "0                          38                          65   \n",
       "1                          43                          65   \n",
       "2                          48                          65   \n",
       "3                          53                          65   \n",
       "4                          56                          85   \n",
       "\n",
       "   workfare_transport_concession_card_fare_per_ride  \\\n",
       "0                                                64   \n",
       "1                                                72   \n",
       "2                                                80   \n",
       "3                                                88   \n",
       "4                                                95   \n",
       "\n",
       "   workfare_transport_concession_cash_fare_per_ride  \\\n",
       "0                                               150   \n",
       "1                                               170   \n",
       "2                                               170   \n",
       "3                                               170   \n",
       "4                                               190   \n",
       "\n",
       "   persons_with_disabilities_card_fare_per_ride  \\\n",
       "0                                            55   \n",
       "1                                            62   \n",
       "2                                            69   \n",
       "3                                            76   \n",
       "4                                            82   \n",
       "\n",
       "   persons_with_disabilities_cash_fare_per_ride  \n",
       "0                                           100  \n",
       "1                                           100  \n",
       "2                                           100  \n",
       "3                                           100  \n",
       "4                                           130  "
      ]
     },
     "execution_count": 4,
     "metadata": {},
     "output_type": "execute_result"
    }
   ],
   "source": [
    "trunk.rename({'distance':'distance (km)'}, axis =1, inplace = True)\n",
    "\n",
    "trunk.head()"
   ]
  },
  {
   "cell_type": "code",
   "execution_count": 5,
   "metadata": {},
   "outputs": [
    {
     "data": {
      "text/html": [
       "<div>\n",
       "<style scoped>\n",
       "    .dataframe tbody tr th:only-of-type {\n",
       "        vertical-align: middle;\n",
       "    }\n",
       "\n",
       "    .dataframe tbody tr th {\n",
       "        vertical-align: top;\n",
       "    }\n",
       "\n",
       "    .dataframe thead th {\n",
       "        text-align: right;\n",
       "    }\n",
       "</style>\n",
       "<table border=\"1\" class=\"dataframe\">\n",
       "  <thead>\n",
       "    <tr style=\"text-align: right;\">\n",
       "      <th></th>\n",
       "      <th>distance (km)</th>\n",
       "      <th>cash_fare_per_ride</th>\n",
       "      <th>adult_card_fare_per_ride</th>\n",
       "      <th>senior_citizen_card_fare_per_ride</th>\n",
       "      <th>student_card_fare_per_ride</th>\n",
       "      <th>workfare_transport_concession_card_fare_per_ride</th>\n",
       "      <th>persons_with_disabilities_card_fare_per_ride</th>\n",
       "    </tr>\n",
       "  </thead>\n",
       "  <tbody>\n",
       "    <tr>\n",
       "      <th>0</th>\n",
       "      <td>3.2 or less</td>\n",
       "      <td>230</td>\n",
       "      <td>143</td>\n",
       "      <td>100</td>\n",
       "      <td>68</td>\n",
       "      <td>114</td>\n",
       "      <td>100</td>\n",
       "    </tr>\n",
       "    <tr>\n",
       "      <th>1</th>\n",
       "      <td>3.3  - 4.2</td>\n",
       "      <td>230</td>\n",
       "      <td>153</td>\n",
       "      <td>107</td>\n",
       "      <td>73</td>\n",
       "      <td>122</td>\n",
       "      <td>107</td>\n",
       "    </tr>\n",
       "    <tr>\n",
       "      <th>2</th>\n",
       "      <td>4.3  - 5.2</td>\n",
       "      <td>230</td>\n",
       "      <td>163</td>\n",
       "      <td>114</td>\n",
       "      <td>78</td>\n",
       "      <td>130</td>\n",
       "      <td>114</td>\n",
       "    </tr>\n",
       "    <tr>\n",
       "      <th>3</th>\n",
       "      <td>5.3  - 6.2</td>\n",
       "      <td>230</td>\n",
       "      <td>173</td>\n",
       "      <td>121</td>\n",
       "      <td>83</td>\n",
       "      <td>138</td>\n",
       "      <td>121</td>\n",
       "    </tr>\n",
       "    <tr>\n",
       "      <th>4</th>\n",
       "      <td>6.3  - 7.2</td>\n",
       "      <td>230</td>\n",
       "      <td>182</td>\n",
       "      <td>127</td>\n",
       "      <td>86</td>\n",
       "      <td>145</td>\n",
       "      <td>127</td>\n",
       "    </tr>\n",
       "  </tbody>\n",
       "</table>\n",
       "</div>"
      ],
      "text/plain": [
       "  distance (km)  cash_fare_per_ride  adult_card_fare_per_ride  \\\n",
       "0   3.2 or less                 230                       143   \n",
       "1   3.3  - 4.2                  230                       153   \n",
       "2   4.3  - 5.2                  230                       163   \n",
       "3   5.3  - 6.2                  230                       173   \n",
       "4   6.3  - 7.2                  230                       182   \n",
       "\n",
       "   senior_citizen_card_fare_per_ride  student_card_fare_per_ride  \\\n",
       "0                                100                          68   \n",
       "1                                107                          73   \n",
       "2                                114                          78   \n",
       "3                                121                          83   \n",
       "4                                127                          86   \n",
       "\n",
       "   workfare_transport_concession_card_fare_per_ride  \\\n",
       "0                                               114   \n",
       "1                                               122   \n",
       "2                                               130   \n",
       "3                                               138   \n",
       "4                                               145   \n",
       "\n",
       "   persons_with_disabilities_card_fare_per_ride  \n",
       "0                                           100  \n",
       "1                                           107  \n",
       "2                                           114  \n",
       "3                                           121  \n",
       "4                                           127  "
      ]
     },
     "execution_count": 5,
     "metadata": {},
     "output_type": "execute_result"
    }
   ],
   "source": [
    "express = pd.read_csv('fares-for-express-bus-services-effective-from-29-december-2018.csv')\n",
    "express['distance'] = express['distance'].str.replace(\"Up to\", \"\").str.replace(\"Over\", \"\").str.replace(\"km\", \"\")\n",
    "\n",
    "express.iloc[0,0] = \"3.2 or less\"\n",
    "express.iloc[38,0] = \"40.2 or more\"\n",
    "\n",
    "express.rename({'distance':'distance (km)'}, axis =1, inplace = True)\n",
    "\n",
    "express.head()"
   ]
  },
  {
   "cell_type": "code",
   "execution_count": 6,
   "metadata": {},
   "outputs": [],
   "source": [
    "# trunk.to_csv('trunk')\n",
    "# express.to_csv('express')"
   ]
  },
  {
   "cell_type": "markdown",
   "metadata": {},
   "source": [
    "## Pivoting in Tableau\n",
    "\n",
    "The dataframes were pivoted in Tableau, and then brought back here for their final cleaning.\n",
    "\n",
    "## Final Round of Data Cleaning\n",
    "\n",
    "### Cleaning the dataframe for Trunk Buses"
   ]
  },
  {
   "cell_type": "code",
   "execution_count": 7,
   "metadata": {},
   "outputs": [
    {
     "data": {
      "text/html": [
       "<div>\n",
       "<style scoped>\n",
       "    .dataframe tbody tr th:only-of-type {\n",
       "        vertical-align: middle;\n",
       "    }\n",
       "\n",
       "    .dataframe tbody tr th {\n",
       "        vertical-align: top;\n",
       "    }\n",
       "\n",
       "    .dataframe thead th {\n",
       "        text-align: right;\n",
       "    }\n",
       "</style>\n",
       "<table border=\"1\" class=\"dataframe\">\n",
       "  <thead>\n",
       "    <tr style=\"text-align: right;\">\n",
       "      <th></th>\n",
       "      <th>Number of Records</th>\n",
       "      <th>Passenger Type</th>\n",
       "      <th>Payment Type</th>\n",
       "      <th>Fare</th>\n",
       "      <th>Distance (Km)</th>\n",
       "    </tr>\n",
       "  </thead>\n",
       "  <tbody>\n",
       "    <tr>\n",
       "      <th>0</th>\n",
       "      <td>1</td>\n",
       "      <td>Adult</td>\n",
       "      <td>Adult Card Fare Per Ride</td>\n",
       "      <td>83</td>\n",
       "      <td>3.2 or less</td>\n",
       "    </tr>\n",
       "    <tr>\n",
       "      <th>1</th>\n",
       "      <td>1</td>\n",
       "      <td>Adult</td>\n",
       "      <td>Adult Card Fare Per Ride</td>\n",
       "      <td>93</td>\n",
       "      <td>3.3  - 4.2</td>\n",
       "    </tr>\n",
       "    <tr>\n",
       "      <th>2</th>\n",
       "      <td>1</td>\n",
       "      <td>Adult</td>\n",
       "      <td>Adult Card Fare Per Ride</td>\n",
       "      <td>103</td>\n",
       "      <td>4.3  - 5.2</td>\n",
       "    </tr>\n",
       "    <tr>\n",
       "      <th>3</th>\n",
       "      <td>1</td>\n",
       "      <td>Adult</td>\n",
       "      <td>Adult Card Fare Per Ride</td>\n",
       "      <td>113</td>\n",
       "      <td>5.3  - 6.2</td>\n",
       "    </tr>\n",
       "    <tr>\n",
       "      <th>4</th>\n",
       "      <td>1</td>\n",
       "      <td>Adult</td>\n",
       "      <td>Adult Card Fare Per Ride</td>\n",
       "      <td>122</td>\n",
       "      <td>6.3  - 7.2</td>\n",
       "    </tr>\n",
       "  </tbody>\n",
       "</table>\n",
       "</div>"
      ],
      "text/plain": [
       "   Number of Records Passenger Type              Payment Type  Fare  \\\n",
       "0                  1          Adult  Adult Card Fare Per Ride    83   \n",
       "1                  1          Adult  Adult Card Fare Per Ride    93   \n",
       "2                  1          Adult  Adult Card Fare Per Ride   103   \n",
       "3                  1          Adult  Adult Card Fare Per Ride   113   \n",
       "4                  1          Adult  Adult Card Fare Per Ride   122   \n",
       "\n",
       "  Distance (Km)  \n",
       "0   3.2 or less  \n",
       "1    3.3  - 4.2  \n",
       "2    4.3  - 5.2  \n",
       "3    5.3  - 6.2  \n",
       "4    6.3  - 7.2  "
      ]
     },
     "execution_count": 7,
     "metadata": {},
     "output_type": "execute_result"
    }
   ],
   "source": [
    "trunks2 = pd.read_csv('trunk.txt (Multiple Connections).csv')\n",
    "\n",
    "trunks2.head()"
   ]
  },
  {
   "cell_type": "markdown",
   "metadata": {},
   "source": [
    "The unnecessary Column, `Number of Records`, was dropped."
   ]
  },
  {
   "cell_type": "code",
   "execution_count": 8,
   "metadata": {},
   "outputs": [
    {
     "data": {
      "text/html": [
       "<div>\n",
       "<style scoped>\n",
       "    .dataframe tbody tr th:only-of-type {\n",
       "        vertical-align: middle;\n",
       "    }\n",
       "\n",
       "    .dataframe tbody tr th {\n",
       "        vertical-align: top;\n",
       "    }\n",
       "\n",
       "    .dataframe thead th {\n",
       "        text-align: right;\n",
       "    }\n",
       "</style>\n",
       "<table border=\"1\" class=\"dataframe\">\n",
       "  <thead>\n",
       "    <tr style=\"text-align: right;\">\n",
       "      <th></th>\n",
       "      <th>Passenger Type</th>\n",
       "      <th>Payment Type</th>\n",
       "      <th>Fare</th>\n",
       "      <th>Distance (Km)</th>\n",
       "    </tr>\n",
       "  </thead>\n",
       "  <tbody>\n",
       "    <tr>\n",
       "      <th>0</th>\n",
       "      <td>Adult</td>\n",
       "      <td>Adult Card Fare Per Ride</td>\n",
       "      <td>83</td>\n",
       "      <td>3.2 or less</td>\n",
       "    </tr>\n",
       "    <tr>\n",
       "      <th>1</th>\n",
       "      <td>Adult</td>\n",
       "      <td>Adult Card Fare Per Ride</td>\n",
       "      <td>93</td>\n",
       "      <td>3.3  - 4.2</td>\n",
       "    </tr>\n",
       "    <tr>\n",
       "      <th>2</th>\n",
       "      <td>Adult</td>\n",
       "      <td>Adult Card Fare Per Ride</td>\n",
       "      <td>103</td>\n",
       "      <td>4.3  - 5.2</td>\n",
       "    </tr>\n",
       "    <tr>\n",
       "      <th>3</th>\n",
       "      <td>Adult</td>\n",
       "      <td>Adult Card Fare Per Ride</td>\n",
       "      <td>113</td>\n",
       "      <td>5.3  - 6.2</td>\n",
       "    </tr>\n",
       "    <tr>\n",
       "      <th>4</th>\n",
       "      <td>Adult</td>\n",
       "      <td>Adult Card Fare Per Ride</td>\n",
       "      <td>122</td>\n",
       "      <td>6.3  - 7.2</td>\n",
       "    </tr>\n",
       "  </tbody>\n",
       "</table>\n",
       "</div>"
      ],
      "text/plain": [
       "  Passenger Type              Payment Type  Fare Distance (Km)\n",
       "0          Adult  Adult Card Fare Per Ride    83   3.2 or less\n",
       "1          Adult  Adult Card Fare Per Ride    93    3.3  - 4.2\n",
       "2          Adult  Adult Card Fare Per Ride   103    4.3  - 5.2\n",
       "3          Adult  Adult Card Fare Per Ride   113    5.3  - 6.2\n",
       "4          Adult  Adult Card Fare Per Ride   122    6.3  - 7.2"
      ]
     },
     "execution_count": 8,
     "metadata": {},
     "output_type": "execute_result"
    }
   ],
   "source": [
    "trunks2 = trunks2.drop('Number of Records', axis=1)\n",
    "\n",
    "trunks2.head()"
   ]
  },
  {
   "cell_type": "code",
   "execution_count": 9,
   "metadata": {},
   "outputs": [
    {
     "data": {
      "text/plain": [
       "array(['Adult', 'Persons', 'Senior', 'Student', 'Workfare'], dtype=object)"
      ]
     },
     "execution_count": 9,
     "metadata": {},
     "output_type": "execute_result"
    }
   ],
   "source": [
    "trunks2['Passenger Type'].unique()"
   ]
  },
  {
   "cell_type": "markdown",
   "metadata": {},
   "source": [
    "A dictionary to base the renaming of column walues on was constructed based on the Unique values in the `Passenger Type` column. The point of the re-naming was to make the column values in `Passenger Type` more suitable."
   ]
  },
  {
   "cell_type": "code",
   "execution_count": 25,
   "metadata": {},
   "outputs": [
    {
     "name": "stdout",
     "output_type": "stream",
     "text": [
      "  Passenger Type Payment Type  Fare Distance (Km)  Transport\n",
      "0          Adult         Card    83   3.2 or less  Trunk Bus\n",
      "1          Adult         Card    93    3.3  - 4.2  Trunk Bus\n",
      "2          Adult         Card   103    4.3  - 5.2  Trunk Bus\n",
      "3          Adult         Card   113    5.3  - 6.2  Trunk Bus\n",
      "4          Adult         Card   122    6.3  - 7.2  Trunk Bus\n",
      "    Passenger Type Payment Type  Fare Distance (Km)  Transport\n",
      "385         Worker         Cash   260  36.3  - 37.2  Trunk Bus\n",
      "386         Worker         Cash   260  37.3  - 38.2  Trunk Bus\n",
      "387         Worker         Cash   260  38.3  - 39.2  Trunk Bus\n",
      "388         Worker         Cash   260  39.3  - 40.2  Trunk Bus\n",
      "389         Worker         Cash   260  40.2 or more  Trunk Bus\n"
     ]
    },
    {
     "data": {
      "text/plain": [
       "Student     78\n",
       "Adult       78\n",
       "Worker      78\n",
       "Senior      78\n",
       "Disabled    78\n",
       "Name: Passenger Type, dtype: int64"
      ]
     },
     "execution_count": 25,
     "metadata": {},
     "output_type": "execute_result"
    }
   ],
   "source": [
    "rename_dict = {'Adult': 'Adult',\n",
    "'Persons': 'Disabled',\n",
    "'Senior': 'Senior',\n",
    "'Student': 'Student',\n",
    "'Workfare': 'Worker',\n",
    "              'Disabled': 'Disabled',\n",
    "              'Worker': 'Worker'}\n",
    "\n",
    "trunks2['Passenger Type'] = trunks2['Passenger Type'].map(rename_dict)\n",
    "\n",
    "print(trunks2.head())\n",
    "\n",
    "print(trunks2.tail())\n",
    "\n",
    "trunks2['Passenger Type'].value_counts()"
   ]
  },
  {
   "cell_type": "markdown",
   "metadata": {},
   "source": [
    "We see from the value counts above that the cleaning was done satisfactorily. Next, we'll rename the values in the `Payment Type` column"
   ]
  },
  {
   "cell_type": "code",
   "execution_count": 11,
   "metadata": {},
   "outputs": [
    {
     "data": {
      "text/plain": [
       "array(['Adult Card Fare Per Ride',\n",
       "       'Persons With Disabilities Card Fare Per Ride',\n",
       "       'Senior Citizen Card Fare Per Ride', 'Student Card Fare Per Ride',\n",
       "       'Workfare Transport Concession Card Fare Per Ride',\n",
       "       'Adult Cash Fare Per Ride',\n",
       "       'Persons With Disabilities Cash Fare Per Ride',\n",
       "       'Senior Citizen Cash Fare Per Ride', 'Student Cash Fare Per Ride',\n",
       "       'Workfare Transport Concession Cash Fare Per Ride'], dtype=object)"
      ]
     },
     "execution_count": 11,
     "metadata": {},
     "output_type": "execute_result"
    }
   ],
   "source": [
    "trunks2['Payment Type'].unique()"
   ]
  },
  {
   "cell_type": "markdown",
   "metadata": {},
   "source": [
    "The `Payment Type` column was also renamed to reflect whether the 'Card' or 'Cash' payment methods."
   ]
  },
  {
   "cell_type": "code",
   "execution_count": 12,
   "metadata": {},
   "outputs": [
    {
     "name": "stdout",
     "output_type": "stream",
     "text": [
      "  Passenger Type Payment Type  Fare Distance (Km)\n",
      "0          Adult         Card    83   3.2 or less\n",
      "1          Adult         Card    93    3.3  - 4.2\n",
      "2          Adult         Card   103    4.3  - 5.2\n",
      "3          Adult         Card   113    5.3  - 6.2\n",
      "4          Adult         Card   122    6.3  - 7.2\n",
      "    Passenger Type Payment Type  Fare Distance (Km)\n",
      "385         Worker         Cash   260  36.3  - 37.2\n",
      "386         Worker         Cash   260  37.3  - 38.2\n",
      "387         Worker         Cash   260  38.3  - 39.2\n",
      "388         Worker         Cash   260  39.3  - 40.2\n",
      "389         Worker         Cash   260  40.2 or more\n"
     ]
    }
   ],
   "source": [
    "renaming_dict_payment_type = {'Adult Card Fare Per Ride' : 'Card',\n",
    "       'Persons With Disabilities Card Fare Per Ride' : 'Card',\n",
    "       'Senior Citizen Card Fare Per Ride' : 'Card', \n",
    "       'Student Card Fare Per Ride' : 'Card',\n",
    "       'Workfare Transport Concession Card Fare Per Ride' : 'Card',\n",
    "       'Adult Cash Fare Per Ride' : 'Cash',\n",
    "       'Persons With Disabilities Cash Fare Per Ride' : 'Cash',\n",
    "       'Senior Citizen Cash Fare Per Ride' : 'Cash', \n",
    "       'Student Cash Fare Per Ride' : 'Cash',\n",
    "       'Workfare Transport Concession Cash Fare Per Ride' : 'Cash',\n",
    "       'Cash': 'Cash',\n",
    "       'Card': 'Card'}\n",
    "\n",
    "trunks2['Payment Type'] = trunks2['Payment Type'].map(renaming_dict_payment_type)\n",
    "\n",
    "print(trunks2.head())\n",
    "\n",
    "print(trunks2.tail())"
   ]
  },
  {
   "cell_type": "code",
   "execution_count": 13,
   "metadata": {},
   "outputs": [
    {
     "data": {
      "text/plain": [
       "Card    195\n",
       "Cash    195\n",
       "Name: Payment Type, dtype: int64"
      ]
     },
     "execution_count": 13,
     "metadata": {},
     "output_type": "execute_result"
    }
   ],
   "source": [
    "trunks2['Payment Type'].value_counts()"
   ]
  },
  {
   "cell_type": "markdown",
   "metadata": {},
   "source": [
    "### Cleaning the dataframe for Express Buses\n",
    "\n",
    "The same cleaning processes were applied to the dataframe for express buses.\n",
    "\n",
    "First, the dataframe was read in, and unnecessary columns were discarded."
   ]
  },
  {
   "cell_type": "code",
   "execution_count": 14,
   "metadata": {},
   "outputs": [
    {
     "data": {
      "text/html": [
       "<div>\n",
       "<style scoped>\n",
       "    .dataframe tbody tr th:only-of-type {\n",
       "        vertical-align: middle;\n",
       "    }\n",
       "\n",
       "    .dataframe tbody tr th {\n",
       "        vertical-align: top;\n",
       "    }\n",
       "\n",
       "    .dataframe thead th {\n",
       "        text-align: right;\n",
       "    }\n",
       "</style>\n",
       "<table border=\"1\" class=\"dataframe\">\n",
       "  <thead>\n",
       "    <tr style=\"text-align: right;\">\n",
       "      <th></th>\n",
       "      <th>Passenger Type</th>\n",
       "      <th>Payment Type</th>\n",
       "      <th>Pivot Field Values</th>\n",
       "      <th>Distance (Km)</th>\n",
       "    </tr>\n",
       "  </thead>\n",
       "  <tbody>\n",
       "    <tr>\n",
       "      <th>0</th>\n",
       "      <td>Adult</td>\n",
       "      <td>Adult Card Fare Per Ride</td>\n",
       "      <td>143</td>\n",
       "      <td>3.2 or less</td>\n",
       "    </tr>\n",
       "    <tr>\n",
       "      <th>1</th>\n",
       "      <td>Adult</td>\n",
       "      <td>Adult Card Fare Per Ride</td>\n",
       "      <td>153</td>\n",
       "      <td>3.3  - 4.2</td>\n",
       "    </tr>\n",
       "    <tr>\n",
       "      <th>2</th>\n",
       "      <td>Adult</td>\n",
       "      <td>Adult Card Fare Per Ride</td>\n",
       "      <td>163</td>\n",
       "      <td>4.3  - 5.2</td>\n",
       "    </tr>\n",
       "    <tr>\n",
       "      <th>3</th>\n",
       "      <td>Adult</td>\n",
       "      <td>Adult Card Fare Per Ride</td>\n",
       "      <td>173</td>\n",
       "      <td>5.3  - 6.2</td>\n",
       "    </tr>\n",
       "    <tr>\n",
       "      <th>4</th>\n",
       "      <td>Adult</td>\n",
       "      <td>Adult Card Fare Per Ride</td>\n",
       "      <td>182</td>\n",
       "      <td>6.3  - 7.2</td>\n",
       "    </tr>\n",
       "  </tbody>\n",
       "</table>\n",
       "</div>"
      ],
      "text/plain": [
       "  Passenger Type              Payment Type  Pivot Field Values Distance (Km)\n",
       "0          Adult  Adult Card Fare Per Ride                 143   3.2 or less\n",
       "1          Adult  Adult Card Fare Per Ride                 153    3.3  - 4.2\n",
       "2          Adult  Adult Card Fare Per Ride                 163    4.3  - 5.2\n",
       "3          Adult  Adult Card Fare Per Ride                 173    5.3  - 6.2\n",
       "4          Adult  Adult Card Fare Per Ride                 182    6.3  - 7.2"
      ]
     },
     "execution_count": 14,
     "metadata": {},
     "output_type": "execute_result"
    }
   ],
   "source": [
    "express2 = pd.read_csv('express_pivot.csv')\n",
    "\n",
    "\n",
    "express2.drop(['F1', 'Number of Records'], axis=1, inplace=True)\n",
    "express2.head()"
   ]
  },
  {
   "cell_type": "markdown",
   "metadata": {},
   "source": [
    "Next, the column values in `Passenger Type` were renamed. "
   ]
  },
  {
   "cell_type": "code",
   "execution_count": 15,
   "metadata": {},
   "outputs": [
    {
     "data": {
      "text/plain": [
       "Student     39\n",
       "All         39\n",
       "Senior      39\n",
       "Adult       39\n",
       "Worker      39\n",
       "Disabled    39\n",
       "Name: Passenger Type, dtype: int64"
      ]
     },
     "execution_count": 15,
     "metadata": {},
     "output_type": "execute_result"
    }
   ],
   "source": [
    "rename_dict2 = {'Adult': 'Adult',\n",
    "'Persons': 'Disabled',\n",
    "'Senior': 'Senior',\n",
    "'Student': 'Student',\n",
    "'Workfare': 'Worker',\n",
    "'Cash': 'All',\n",
    "'Disabled': 'Disabled',\n",
    "'Worker': 'Worker'\n",
    "'All': 'All'}\n",
    "\n",
    "express2['Passenger Type'] = express2['Passenger Type'].map(rename_dict2)\n",
    "\n",
    "express2['Passenger Type'].value_counts()"
   ]
  },
  {
   "cell_type": "markdown",
   "metadata": {},
   "source": [
    "After verifying that the column values were replaced correctly, the `Payment Type` column's values were then changed to reflect 'Card' or 'Cash' payment options."
   ]
  },
  {
   "cell_type": "code",
   "execution_count": 16,
   "metadata": {},
   "outputs": [
    {
     "data": {
      "text/plain": [
       "Card    195\n",
       "Cash     39\n",
       "Name: Payment Type, dtype: int64"
      ]
     },
     "execution_count": 16,
     "metadata": {},
     "output_type": "execute_result"
    }
   ],
   "source": [
    "renaming_dict_payment_type_2 = {'Cash Fare Per Ride':'Cash',\n",
    "       'Adult Card Fare Per Ride' : 'Card',\n",
    "       'Persons With Disabilities Card Fare Per Ride' : 'Card',\n",
    "       'Senior Citizen Card Fare Per Ride' : 'Card', \n",
    "       'Student Card Fare Per Ride' : 'Card',\n",
    "       'Workfare Transport Concession Card Fare Per Ride' : 'Card',\n",
    "       'Cash': 'Cash',\n",
    "       'Card': 'Card'\n",
    "       }\n",
    "\n",
    "express2['Payment Type'] = express2['Payment Type'].map(renaming_dict_payment_type_2)\n",
    "\n",
    "express2['Payment Type'].value_counts()"
   ]
  },
  {
   "cell_type": "markdown",
   "metadata": {},
   "source": [
    "## Concatenating the two dataframes\n",
    "\n",
    "After verifying that the cleaning was all done, we'll add a new column in the dataframe to represent the Type of Bus (Trunk Bus or Express Bus), and then we'll preview both dataframes a final time."
   ]
  },
  {
   "cell_type": "code",
   "execution_count": 27,
   "metadata": {
    "scrolled": true
   },
   "outputs": [
    {
     "name": "stdout",
     "output_type": "stream",
     "text": [
      "  Passenger Type Payment Type  Fare Distance (Km)    Transport\n",
      "0          Adult         Card   143   3.2 or less  Express Bus\n",
      "1          Adult         Card   153    3.3  - 4.2  Express Bus\n",
      "2          Adult         Card   163    4.3  - 5.2  Express Bus\n",
      "3          Adult         Card   173    5.3  - 6.2  Express Bus\n",
      "4          Adult         Card   182    6.3  - 7.2  Express Bus\n",
      "  Passenger Type Payment Type  Fare Distance (Km)  Transport\n",
      "0          Adult         Card    83   3.2 or less  Trunk Bus\n",
      "1          Adult         Card    93    3.3  - 4.2  Trunk Bus\n",
      "2          Adult         Card   103    4.3  - 5.2  Trunk Bus\n",
      "3          Adult         Card   113    5.3  - 6.2  Trunk Bus\n",
      "4          Adult         Card   122    6.3  - 7.2  Trunk Bus\n"
     ]
    }
   ],
   "source": [
    "express2['Transport'] = \"Express Bus\"\n",
    "\n",
    "print(express2.head())\n",
    "\n",
    "trunks2['Transport'] = \"Trunk Bus\"\n",
    "\n",
    "print(trunks2.head())"
   ]
  },
  {
   "cell_type": "code",
   "execution_count": 18,
   "metadata": {},
   "outputs": [
    {
     "data": {
      "text/html": [
       "<div>\n",
       "<style scoped>\n",
       "    .dataframe tbody tr th:only-of-type {\n",
       "        vertical-align: middle;\n",
       "    }\n",
       "\n",
       "    .dataframe tbody tr th {\n",
       "        vertical-align: top;\n",
       "    }\n",
       "\n",
       "    .dataframe thead th {\n",
       "        text-align: right;\n",
       "    }\n",
       "</style>\n",
       "<table border=\"1\" class=\"dataframe\">\n",
       "  <thead>\n",
       "    <tr style=\"text-align: right;\">\n",
       "      <th></th>\n",
       "      <th>Passenger Type</th>\n",
       "      <th>Payment Type</th>\n",
       "      <th>Fare</th>\n",
       "      <th>Distance (Km)</th>\n",
       "      <th>Transport</th>\n",
       "    </tr>\n",
       "  </thead>\n",
       "  <tbody>\n",
       "    <tr>\n",
       "      <th>0</th>\n",
       "      <td>Adult</td>\n",
       "      <td>Card</td>\n",
       "      <td>143</td>\n",
       "      <td>3.2 or less</td>\n",
       "      <td>Express Bus</td>\n",
       "    </tr>\n",
       "    <tr>\n",
       "      <th>1</th>\n",
       "      <td>Adult</td>\n",
       "      <td>Card</td>\n",
       "      <td>153</td>\n",
       "      <td>3.3  - 4.2</td>\n",
       "      <td>Express Bus</td>\n",
       "    </tr>\n",
       "    <tr>\n",
       "      <th>2</th>\n",
       "      <td>Adult</td>\n",
       "      <td>Card</td>\n",
       "      <td>163</td>\n",
       "      <td>4.3  - 5.2</td>\n",
       "      <td>Express Bus</td>\n",
       "    </tr>\n",
       "    <tr>\n",
       "      <th>3</th>\n",
       "      <td>Adult</td>\n",
       "      <td>Card</td>\n",
       "      <td>173</td>\n",
       "      <td>5.3  - 6.2</td>\n",
       "      <td>Express Bus</td>\n",
       "    </tr>\n",
       "    <tr>\n",
       "      <th>4</th>\n",
       "      <td>Adult</td>\n",
       "      <td>Card</td>\n",
       "      <td>182</td>\n",
       "      <td>6.3  - 7.2</td>\n",
       "      <td>Express Bus</td>\n",
       "    </tr>\n",
       "  </tbody>\n",
       "</table>\n",
       "</div>"
      ],
      "text/plain": [
       "  Passenger Type Payment Type  Fare Distance (Km)    Transport\n",
       "0          Adult         Card   143   3.2 or less  Express Bus\n",
       "1          Adult         Card   153    3.3  - 4.2  Express Bus\n",
       "2          Adult         Card   163    4.3  - 5.2  Express Bus\n",
       "3          Adult         Card   173    5.3  - 6.2  Express Bus\n",
       "4          Adult         Card   182    6.3  - 7.2  Express Bus"
      ]
     },
     "execution_count": 18,
     "metadata": {},
     "output_type": "execute_result"
    }
   ],
   "source": [
    "# express2 = express2.rename({'Pivot Field Values':'Fare'}, axis=1)\n",
    "# express2.head()"
   ]
  },
  {
   "cell_type": "markdown",
   "metadata": {},
   "source": [
    "Let's confirm the sizes of both dataframes, and then concatenate them:"
   ]
  },
  {
   "cell_type": "code",
   "execution_count": 19,
   "metadata": {},
   "outputs": [
    {
     "data": {
      "text/plain": [
       "(234, 5)"
      ]
     },
     "execution_count": 19,
     "metadata": {},
     "output_type": "execute_result"
    }
   ],
   "source": [
    "express2.shape"
   ]
  },
  {
   "cell_type": "code",
   "execution_count": 20,
   "metadata": {},
   "outputs": [
    {
     "data": {
      "text/plain": [
       "(390, 5)"
      ]
     },
     "execution_count": 20,
     "metadata": {},
     "output_type": "execute_result"
    }
   ],
   "source": [
    "trunks2.shape"
   ]
  },
  {
   "cell_type": "code",
   "execution_count": 29,
   "metadata": {},
   "outputs": [
    {
     "name": "stdout",
     "output_type": "stream",
     "text": [
      "(624, 5)\n",
      "  Passenger Type Payment Type  Fare Distance (Km)    Transport\n",
      "0          Adult         Card   143   3.2 or less  Express Bus\n",
      "1          Adult         Card   153    3.3  - 4.2  Express Bus\n",
      "2          Adult         Card   163    4.3  - 5.2  Express Bus\n",
      "3          Adult         Card   173    5.3  - 6.2  Express Bus\n",
      "4          Adult         Card   182    6.3  - 7.2  Express Bus\n",
      "    Passenger Type Payment Type  Fare Distance (Km)  Transport\n",
      "385         Worker         Cash   260  36.3  - 37.2  Trunk Bus\n",
      "386         Worker         Cash   260  37.3  - 38.2  Trunk Bus\n",
      "387         Worker         Cash   260  38.3  - 39.2  Trunk Bus\n",
      "388         Worker         Cash   260  39.3  - 40.2  Trunk Bus\n",
      "389         Worker         Cash   260  40.2 or more  Trunk Bus\n"
     ]
    }
   ],
   "source": [
    "combined = pd.concat([express2, trunks2])\n",
    "\n",
    "print(combined.shape)\n",
    "\n",
    "print(combined.head())\n",
    "print(combined.tail())"
   ]
  },
  {
   "cell_type": "markdown",
   "metadata": {},
   "source": [
    "## Exporting back to Tableau\n",
    "\n",
    "After verifying that the concatenation was done correctly, we'll finall export the dataframes to Tableau."
   ]
  },
  {
   "cell_type": "code",
   "execution_count": 23,
   "metadata": {},
   "outputs": [],
   "source": [
    "combined.to_csv('trunk_and_express')"
   ]
  }
 ],
 "metadata": {
  "kernelspec": {
   "display_name": "Python 3",
   "language": "python",
   "name": "python3"
  },
  "language_info": {
   "codemirror_mode": {
    "name": "ipython",
    "version": 3
   },
   "file_extension": ".py",
   "mimetype": "text/x-python",
   "name": "python",
   "nbconvert_exporter": "python",
   "pygments_lexer": "ipython3",
   "version": "3.7.0"
  }
 },
 "nbformat": 4,
 "nbformat_minor": 2
}
