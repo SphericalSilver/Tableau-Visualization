{
 "cells": [
  {
   "cell_type": "markdown",
   "metadata": {},
   "source": [
    "# Introducing the Dataset\n",
    "\n",
    "A dataset on the billionaires of the world, acquired [here](https://www.piie.com/publications/working-papers/origins-superrich-billionaire-characteristics-database) was imported into Python for Data Processing, before being sent to Tableau for visualization."
   ]
  },
  {
   "cell_type": "code",
   "execution_count": 1,
   "metadata": {},
   "outputs": [],
   "source": [
    "import numpy as np\n",
    "import pandas as pd"
   ]
  },
  {
   "cell_type": "code",
   "execution_count": 2,
   "metadata": {},
   "outputs": [],
   "source": [
    "bill = pd.read_csv('billionaires.csv')"
   ]
  },
  {
   "cell_type": "code",
   "execution_count": 3,
   "metadata": {},
   "outputs": [
    {
     "data": {
      "text/html": [
       "<div>\n",
       "<style scoped>\n",
       "    .dataframe tbody tr th:only-of-type {\n",
       "        vertical-align: middle;\n",
       "    }\n",
       "\n",
       "    .dataframe tbody tr th {\n",
       "        vertical-align: top;\n",
       "    }\n",
       "\n",
       "    .dataframe thead th {\n",
       "        text-align: right;\n",
       "    }\n",
       "</style>\n",
       "<table border=\"1\" class=\"dataframe\">\n",
       "  <thead>\n",
       "    <tr style=\"text-align: right;\">\n",
       "      <th></th>\n",
       "      <th>Unnamed: 0</th>\n",
       "      <th>name</th>\n",
       "      <th>year</th>\n",
       "      <th>rank</th>\n",
       "      <th>citizenship</th>\n",
       "      <th>countrycode</th>\n",
       "      <th>networthusbillion</th>\n",
       "      <th>age</th>\n",
       "      <th>sourceofwealth</th>\n",
       "      <th>IndustryAggregates</th>\n",
       "      <th>north</th>\n",
       "      <th>region</th>\n",
       "      <th>industry</th>\n",
       "      <th>company</th>\n",
       "      <th>deflator1996</th>\n",
       "      <th>realnetworth</th>\n",
       "      <th>realbillionaires</th>\n",
       "      <th>gdpcurrentus</th>\n",
       "    </tr>\n",
       "  </thead>\n",
       "  <tbody>\n",
       "    <tr>\n",
       "      <th>0</th>\n",
       "      <td>0</td>\n",
       "      <td>Isabel dos Santos</td>\n",
       "      <td>2013.0</td>\n",
       "      <td>736.0</td>\n",
       "      <td>Angola</td>\n",
       "      <td>AGO</td>\n",
       "      <td>2.0</td>\n",
       "      <td>40.0</td>\n",
       "      <td>investments</td>\n",
       "      <td>Non-Traded Sectors</td>\n",
       "      <td>0.0</td>\n",
       "      <td>Sub-Saharan Africa</td>\n",
       "      <td>Media</td>\n",
       "      <td>NaN</td>\n",
       "      <td>138.80208</td>\n",
       "      <td>1.440901</td>\n",
       "      <td>1.0</td>\n",
       "      <td>1.241632e+11</td>\n",
       "    </tr>\n",
       "    <tr>\n",
       "      <th>1</th>\n",
       "      <td>1</td>\n",
       "      <td>Isabel dos Santos</td>\n",
       "      <td>2014.0</td>\n",
       "      <td>408.0</td>\n",
       "      <td>Angola</td>\n",
       "      <td>AGO</td>\n",
       "      <td>3.7</td>\n",
       "      <td>40.0</td>\n",
       "      <td>investments</td>\n",
       "      <td>Financial</td>\n",
       "      <td>0.0</td>\n",
       "      <td>Sub-Saharan Africa</td>\n",
       "      <td>Diversified financial</td>\n",
       "      <td>NaN</td>\n",
       "      <td>138.80210</td>\n",
       "      <td>2.665666</td>\n",
       "      <td>1.0</td>\n",
       "      <td>1.314006e+11</td>\n",
       "    </tr>\n",
       "    <tr>\n",
       "      <th>2</th>\n",
       "      <td>2</td>\n",
       "      <td>Isabel dos Santos</td>\n",
       "      <td>2015.0</td>\n",
       "      <td>534.0</td>\n",
       "      <td>Angola</td>\n",
       "      <td>AGO</td>\n",
       "      <td>3.3</td>\n",
       "      <td>41.0</td>\n",
       "      <td>Investments</td>\n",
       "      <td>Financial</td>\n",
       "      <td>0.0</td>\n",
       "      <td>Sub-Saharan Africa</td>\n",
       "      <td>Diversified financial</td>\n",
       "      <td>NaN</td>\n",
       "      <td>138.80210</td>\n",
       "      <td>2.377486</td>\n",
       "      <td>1.0</td>\n",
       "      <td>NaN</td>\n",
       "    </tr>\n",
       "    <tr>\n",
       "      <th>3</th>\n",
       "      <td>3</td>\n",
       "      <td>Isabel dos Santos</td>\n",
       "      <td>September 2015</td>\n",
       "      <td>NaN</td>\n",
       "      <td>Angola</td>\n",
       "      <td>AGO</td>\n",
       "      <td>3.0</td>\n",
       "      <td>NaN</td>\n",
       "      <td>Investments</td>\n",
       "      <td>Financial</td>\n",
       "      <td>0.0</td>\n",
       "      <td>Sub-Saharan Africa</td>\n",
       "      <td>Diversified financial</td>\n",
       "      <td>NaN</td>\n",
       "      <td>138.80210</td>\n",
       "      <td>2.161351</td>\n",
       "      <td>1.0</td>\n",
       "      <td>NaN</td>\n",
       "    </tr>\n",
       "    <tr>\n",
       "      <th>4</th>\n",
       "      <td>4</td>\n",
       "      <td>Sheikh Zayed Bin Sultan Al Nahyan</td>\n",
       "      <td>1997.0</td>\n",
       "      <td>21.0</td>\n",
       "      <td>United Arab Emirates</td>\n",
       "      <td>ARE</td>\n",
       "      <td>10.0</td>\n",
       "      <td>0.0</td>\n",
       "      <td>NaN</td>\n",
       "      <td>NaN</td>\n",
       "      <td>0.0</td>\n",
       "      <td>Middle East/North Africa</td>\n",
       "      <td>NaN</td>\n",
       "      <td>NaN</td>\n",
       "      <td>101.69270</td>\n",
       "      <td>NaN</td>\n",
       "      <td>1.0</td>\n",
       "      <td>7.883901e+10</td>\n",
       "    </tr>\n",
       "  </tbody>\n",
       "</table>\n",
       "</div>"
      ],
      "text/plain": [
       "   Unnamed: 0                               name            year   rank  \\\n",
       "0           0                  Isabel dos Santos          2013.0  736.0   \n",
       "1           1                  Isabel dos Santos          2014.0  408.0   \n",
       "2           2                  Isabel dos Santos          2015.0  534.0   \n",
       "3           3                  Isabel dos Santos  September 2015    NaN   \n",
       "4           4  Sheikh Zayed Bin Sultan Al Nahyan          1997.0   21.0   \n",
       "\n",
       "            citizenship countrycode  networthusbillion   age sourceofwealth  \\\n",
       "0                Angola         AGO                2.0  40.0    investments   \n",
       "1                Angola         AGO                3.7  40.0    investments   \n",
       "2                Angola         AGO                3.3  41.0    Investments   \n",
       "3                Angola         AGO                3.0   NaN    Investments   \n",
       "4  United Arab Emirates         ARE               10.0   0.0            NaN   \n",
       "\n",
       "   IndustryAggregates  north                    region               industry  \\\n",
       "0  Non-Traded Sectors    0.0        Sub-Saharan Africa                  Media   \n",
       "1           Financial    0.0        Sub-Saharan Africa  Diversified financial   \n",
       "2           Financial    0.0        Sub-Saharan Africa  Diversified financial   \n",
       "3           Financial    0.0        Sub-Saharan Africa  Diversified financial   \n",
       "4                 NaN    0.0  Middle East/North Africa                    NaN   \n",
       "\n",
       "  company  deflator1996  realnetworth  realbillionaires  gdpcurrentus  \n",
       "0     NaN     138.80208      1.440901               1.0  1.241632e+11  \n",
       "1     NaN     138.80210      2.665666               1.0  1.314006e+11  \n",
       "2     NaN     138.80210      2.377486               1.0           NaN  \n",
       "3     NaN     138.80210      2.161351               1.0           NaN  \n",
       "4     NaN     101.69270           NaN               1.0  7.883901e+10  "
      ]
     },
     "execution_count": 3,
     "metadata": {},
     "output_type": "execute_result"
    }
   ],
   "source": [
    "bill.head()"
   ]
  },
  {
   "cell_type": "markdown",
   "metadata": {},
   "source": [
    "We'll look at the unique values in the `year` column."
   ]
  },
  {
   "cell_type": "code",
   "execution_count": 4,
   "metadata": {},
   "outputs": [
    {
     "data": {
      "text/plain": [
       "array(['2013.0', '2014.0', '2015.0', 'September 2015', '1997.0', '1998.0',\n",
       "       '1999.0', '2000.0', '2001.0', '2002.0', '2003.0', '2004.0',\n",
       "       '2005.0', '2006.0', '2007.0', '2008.0', '2009.0', '2010.0',\n",
       "       '2011.0', '2012.0', '1996.0'], dtype=object)"
      ]
     },
     "execution_count": 4,
     "metadata": {},
     "output_type": "execute_result"
    }
   ],
   "source": [
    "bill.year.unique()"
   ]
  },
  {
   "cell_type": "markdown",
   "metadata": {},
   "source": [
    "There is a value for `September 2015` that we do not want. We'll drop all rows with a `September 2015` row. "
   ]
  },
  {
   "cell_type": "code",
   "execution_count": 6,
   "metadata": {},
   "outputs": [],
   "source": [
    "bill = bill[~bill['year'].str.contains('Sep')]"
   ]
  },
  {
   "cell_type": "code",
   "execution_count": 8,
   "metadata": {},
   "outputs": [
    {
     "data": {
      "text/plain": [
       "array(['2013.0', '2014.0', '2015.0', '1997.0', '1998.0', '1999.0',\n",
       "       '2000.0', '2001.0', '2002.0', '2003.0', '2004.0', '2005.0',\n",
       "       '2006.0', '2007.0', '2008.0', '2009.0', '2010.0', '2011.0',\n",
       "       '2012.0', '1996.0'], dtype=object)"
      ]
     },
     "execution_count": 8,
     "metadata": {},
     "output_type": "execute_result"
    }
   ],
   "source": [
    "bill.year.unique()"
   ]
  },
  {
   "cell_type": "markdown",
   "metadata": {},
   "source": [
    "Let's further remove the \".0\" figure in the `year` column."
   ]
  },
  {
   "cell_type": "code",
   "execution_count": 10,
   "metadata": {},
   "outputs": [
    {
     "data": {
      "text/plain": [
       "array(['2013', '2014', '2015', '1997', '1998', '1999', '2000', '2001',\n",
       "       '2002', '2003', '2004', '2005', '2006', '2007', '2008', '2009',\n",
       "       '2010', '2011', '2012', '1996'], dtype=object)"
      ]
     },
     "execution_count": 10,
     "metadata": {},
     "output_type": "execute_result"
    }
   ],
   "source": [
    "bill['year'] = bill['year'].str[0:4]\n",
    "\n",
    "bill.year.unique()"
   ]
  },
  {
   "cell_type": "code",
   "execution_count": 13,
   "metadata": {},
   "outputs": [],
   "source": [
    "bill.to_csv('billionaires2.csv')"
   ]
  }
 ],
 "metadata": {
  "kernelspec": {
   "display_name": "Python 3",
   "language": "python",
   "name": "python3"
  },
  "language_info": {
   "codemirror_mode": {
    "name": "ipython",
    "version": 3
   },
   "file_extension": ".py",
   "mimetype": "text/x-python",
   "name": "python",
   "nbconvert_exporter": "python",
   "pygments_lexer": "ipython3",
   "version": "3.7.0"
  }
 },
 "nbformat": 4,
 "nbformat_minor": 2
}
